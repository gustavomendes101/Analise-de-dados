{
 "cells": [
  {
   "cell_type": "code",
   "execution_count": 1,
   "id": "8241d5c5",
   "metadata": {
    "_cell_guid": "b1076dfc-b9ad-4769-8c92-a6c4dae69d19",
    "_uuid": "8f2839f25d086af736a60e9eeb907d3b93b6e0e5",
    "execution": {
     "iopub.execute_input": "2025-01-02T19:03:37.119833Z",
     "iopub.status.busy": "2025-01-02T19:03:37.118913Z",
     "iopub.status.idle": "2025-01-02T19:03:37.938063Z",
     "shell.execute_reply": "2025-01-02T19:03:37.936805Z"
    },
    "papermill": {
     "duration": 0.828334,
     "end_time": "2025-01-02T19:03:37.940247",
     "exception": false,
     "start_time": "2025-01-02T19:03:37.111913",
     "status": "completed"
    },
    "tags": []
   },
   "outputs": [
    {
     "name": "stdout",
     "output_type": "stream",
     "text": [
      "/kaggle/input/student-performance-factors/StudentPerformanceFactors.csv\n"
     ]
    }
   ],
   "source": [
    "# This Python 3 environment comes with many helpful analytics libraries installed\n",
    "# It is defined by the kaggle/python Docker image: https://github.com/kaggle/docker-python\n",
    "# For example, here's several helpful packages to load\n",
    "\n",
    "import numpy as np # linear algebra\n",
    "import pandas as pd # data processing, CSV file I/O (e.g. pd.read_csv)\n",
    "\n",
    "# Input data files are available in the read-only \"../input/\" directory\n",
    "# For example, running this (by clicking run or pressing Shift+Enter) will list all files under the input directory\n",
    "\n",
    "import os\n",
    "for dirname, _, filenames in os.walk('/kaggle/input'):\n",
    "    for filename in filenames:\n",
    "        print(os.path.join(dirname, filename))\n",
    "\n",
    "# You can write up to 20GB to the current directory (/kaggle/working/) that gets preserved as output when you create a version using \"Save & Run All\" \n",
    "# You can also write temporary files to /kaggle/temp/, but they won't be saved outside of the current session"
   ]
  },
  {
   "cell_type": "markdown",
   "id": "278a3266",
   "metadata": {
    "papermill": {
     "duration": 0.004302,
     "end_time": "2025-01-02T19:03:37.949484",
     "exception": false,
     "start_time": "2025-01-02T19:03:37.945182",
     "status": "completed"
    },
    "tags": []
   },
   "source": [
    "# **Introdução**"
   ]
  },
  {
   "cell_type": "markdown",
   "id": "f8a12a81",
   "metadata": {
    "papermill": {
     "duration": 0.004248,
     "end_time": "2025-01-02T19:03:37.958589",
     "exception": false,
     "start_time": "2025-01-02T19:03:37.954341",
     "status": "completed"
    },
    "tags": []
   },
   "source": [
    "Essa análise busca responder os seguintes questionamentos:\n",
    "\n",
    "* > O involvimento dos pais tem impacto nas notas dos alunos?\n",
    "* > Qual a distribuição das horas estudadas pelos alunos? há correlação com o sexo?\n",
    "* > Alunos de escola particular estudam mais horas durante a semana?"
   ]
  },
  {
   "cell_type": "markdown",
   "id": "48f2ac6d",
   "metadata": {
    "papermill": {
     "duration": 0.004105,
     "end_time": "2025-01-02T19:03:37.966982",
     "exception": false,
     "start_time": "2025-01-02T19:03:37.962877",
     "status": "completed"
    },
    "tags": []
   },
   "source": [
    "# Importando bibliotecas"
   ]
  },
  {
   "cell_type": "code",
   "execution_count": 2,
   "id": "299fd605",
   "metadata": {
    "execution": {
     "iopub.execute_input": "2025-01-02T19:03:37.977402Z",
     "iopub.status.busy": "2025-01-02T19:03:37.976891Z",
     "iopub.status.idle": "2025-01-02T19:03:39.566861Z",
     "shell.execute_reply": "2025-01-02T19:03:39.565745Z"
    },
    "papermill": {
     "duration": 1.59792,
     "end_time": "2025-01-02T19:03:39.569212",
     "exception": false,
     "start_time": "2025-01-02T19:03:37.971292",
     "status": "completed"
    },
    "tags": []
   },
   "outputs": [],
   "source": [
    "import pandas as pd\n",
    "import numpy as np\n",
    "import seaborn as snr\n",
    "import matplotlib.pyplot as plt"
   ]
  },
  {
   "cell_type": "markdown",
   "id": "c4600140",
   "metadata": {
    "papermill": {
     "duration": 0.004784,
     "end_time": "2025-01-02T19:03:39.578951",
     "exception": false,
     "start_time": "2025-01-02T19:03:39.574167",
     "status": "completed"
    },
    "tags": []
   },
   "source": [
    "# Carregando os dados"
   ]
  },
  {
   "cell_type": "code",
   "execution_count": 3,
   "id": "8baced68",
   "metadata": {
    "execution": {
     "iopub.execute_input": "2025-01-02T19:03:39.589634Z",
     "iopub.status.busy": "2025-01-02T19:03:39.589090Z",
     "iopub.status.idle": "2025-01-02T19:03:39.666956Z",
     "shell.execute_reply": "2025-01-02T19:03:39.665765Z"
    },
    "papermill": {
     "duration": 0.085822,
     "end_time": "2025-01-02T19:03:39.669166",
     "exception": false,
     "start_time": "2025-01-02T19:03:39.583344",
     "status": "completed"
    },
    "tags": []
   },
   "outputs": [
    {
     "data": {
      "text/html": [
       "<div>\n",
       "<style scoped>\n",
       "    .dataframe tbody tr th:only-of-type {\n",
       "        vertical-align: middle;\n",
       "    }\n",
       "\n",
       "    .dataframe tbody tr th {\n",
       "        vertical-align: top;\n",
       "    }\n",
       "\n",
       "    .dataframe thead th {\n",
       "        text-align: right;\n",
       "    }\n",
       "</style>\n",
       "<table border=\"1\" class=\"dataframe\">\n",
       "  <thead>\n",
       "    <tr style=\"text-align: right;\">\n",
       "      <th></th>\n",
       "      <th>Hours_Studied</th>\n",
       "      <th>Attendance</th>\n",
       "      <th>Parental_Involvement</th>\n",
       "      <th>Access_to_Resources</th>\n",
       "      <th>Extracurricular_Activities</th>\n",
       "      <th>Sleep_Hours</th>\n",
       "      <th>Previous_Scores</th>\n",
       "      <th>Motivation_Level</th>\n",
       "      <th>Internet_Access</th>\n",
       "      <th>Tutoring_Sessions</th>\n",
       "      <th>Family_Income</th>\n",
       "      <th>Teacher_Quality</th>\n",
       "      <th>School_Type</th>\n",
       "      <th>Peer_Influence</th>\n",
       "      <th>Physical_Activity</th>\n",
       "      <th>Learning_Disabilities</th>\n",
       "      <th>Parental_Education_Level</th>\n",
       "      <th>Distance_from_Home</th>\n",
       "      <th>Gender</th>\n",
       "      <th>Exam_Score</th>\n",
       "    </tr>\n",
       "  </thead>\n",
       "  <tbody>\n",
       "    <tr>\n",
       "      <th>0</th>\n",
       "      <td>23</td>\n",
       "      <td>84</td>\n",
       "      <td>Low</td>\n",
       "      <td>High</td>\n",
       "      <td>No</td>\n",
       "      <td>7</td>\n",
       "      <td>73</td>\n",
       "      <td>Low</td>\n",
       "      <td>Yes</td>\n",
       "      <td>0</td>\n",
       "      <td>Low</td>\n",
       "      <td>Medium</td>\n",
       "      <td>Public</td>\n",
       "      <td>Positive</td>\n",
       "      <td>3</td>\n",
       "      <td>No</td>\n",
       "      <td>High School</td>\n",
       "      <td>Near</td>\n",
       "      <td>Male</td>\n",
       "      <td>67</td>\n",
       "    </tr>\n",
       "    <tr>\n",
       "      <th>1</th>\n",
       "      <td>19</td>\n",
       "      <td>64</td>\n",
       "      <td>Low</td>\n",
       "      <td>Medium</td>\n",
       "      <td>No</td>\n",
       "      <td>8</td>\n",
       "      <td>59</td>\n",
       "      <td>Low</td>\n",
       "      <td>Yes</td>\n",
       "      <td>2</td>\n",
       "      <td>Medium</td>\n",
       "      <td>Medium</td>\n",
       "      <td>Public</td>\n",
       "      <td>Negative</td>\n",
       "      <td>4</td>\n",
       "      <td>No</td>\n",
       "      <td>College</td>\n",
       "      <td>Moderate</td>\n",
       "      <td>Female</td>\n",
       "      <td>61</td>\n",
       "    </tr>\n",
       "    <tr>\n",
       "      <th>2</th>\n",
       "      <td>24</td>\n",
       "      <td>98</td>\n",
       "      <td>Medium</td>\n",
       "      <td>Medium</td>\n",
       "      <td>Yes</td>\n",
       "      <td>7</td>\n",
       "      <td>91</td>\n",
       "      <td>Medium</td>\n",
       "      <td>Yes</td>\n",
       "      <td>2</td>\n",
       "      <td>Medium</td>\n",
       "      <td>Medium</td>\n",
       "      <td>Public</td>\n",
       "      <td>Neutral</td>\n",
       "      <td>4</td>\n",
       "      <td>No</td>\n",
       "      <td>Postgraduate</td>\n",
       "      <td>Near</td>\n",
       "      <td>Male</td>\n",
       "      <td>74</td>\n",
       "    </tr>\n",
       "    <tr>\n",
       "      <th>3</th>\n",
       "      <td>29</td>\n",
       "      <td>89</td>\n",
       "      <td>Low</td>\n",
       "      <td>Medium</td>\n",
       "      <td>Yes</td>\n",
       "      <td>8</td>\n",
       "      <td>98</td>\n",
       "      <td>Medium</td>\n",
       "      <td>Yes</td>\n",
       "      <td>1</td>\n",
       "      <td>Medium</td>\n",
       "      <td>Medium</td>\n",
       "      <td>Public</td>\n",
       "      <td>Negative</td>\n",
       "      <td>4</td>\n",
       "      <td>No</td>\n",
       "      <td>High School</td>\n",
       "      <td>Moderate</td>\n",
       "      <td>Male</td>\n",
       "      <td>71</td>\n",
       "    </tr>\n",
       "    <tr>\n",
       "      <th>4</th>\n",
       "      <td>19</td>\n",
       "      <td>92</td>\n",
       "      <td>Medium</td>\n",
       "      <td>Medium</td>\n",
       "      <td>Yes</td>\n",
       "      <td>6</td>\n",
       "      <td>65</td>\n",
       "      <td>Medium</td>\n",
       "      <td>Yes</td>\n",
       "      <td>3</td>\n",
       "      <td>Medium</td>\n",
       "      <td>High</td>\n",
       "      <td>Public</td>\n",
       "      <td>Neutral</td>\n",
       "      <td>4</td>\n",
       "      <td>No</td>\n",
       "      <td>College</td>\n",
       "      <td>Near</td>\n",
       "      <td>Female</td>\n",
       "      <td>70</td>\n",
       "    </tr>\n",
       "  </tbody>\n",
       "</table>\n",
       "</div>"
      ],
      "text/plain": [
       "   Hours_Studied  Attendance Parental_Involvement Access_to_Resources  \\\n",
       "0             23          84                  Low                High   \n",
       "1             19          64                  Low              Medium   \n",
       "2             24          98               Medium              Medium   \n",
       "3             29          89                  Low              Medium   \n",
       "4             19          92               Medium              Medium   \n",
       "\n",
       "  Extracurricular_Activities  Sleep_Hours  Previous_Scores Motivation_Level  \\\n",
       "0                         No            7               73              Low   \n",
       "1                         No            8               59              Low   \n",
       "2                        Yes            7               91           Medium   \n",
       "3                        Yes            8               98           Medium   \n",
       "4                        Yes            6               65           Medium   \n",
       "\n",
       "  Internet_Access  Tutoring_Sessions Family_Income Teacher_Quality  \\\n",
       "0             Yes                  0           Low          Medium   \n",
       "1             Yes                  2        Medium          Medium   \n",
       "2             Yes                  2        Medium          Medium   \n",
       "3             Yes                  1        Medium          Medium   \n",
       "4             Yes                  3        Medium            High   \n",
       "\n",
       "  School_Type Peer_Influence  Physical_Activity Learning_Disabilities  \\\n",
       "0      Public       Positive                  3                    No   \n",
       "1      Public       Negative                  4                    No   \n",
       "2      Public        Neutral                  4                    No   \n",
       "3      Public       Negative                  4                    No   \n",
       "4      Public        Neutral                  4                    No   \n",
       "\n",
       "  Parental_Education_Level Distance_from_Home  Gender  Exam_Score  \n",
       "0              High School               Near    Male          67  \n",
       "1                  College           Moderate  Female          61  \n",
       "2             Postgraduate               Near    Male          74  \n",
       "3              High School           Moderate    Male          71  \n",
       "4                  College               Near  Female          70  "
      ]
     },
     "execution_count": 3,
     "metadata": {},
     "output_type": "execute_result"
    }
   ],
   "source": [
    "db  = pd.read_csv('/kaggle/input/student-performance-factors/StudentPerformanceFactors.csv')\n",
    "db.head()"
   ]
  },
  {
   "cell_type": "code",
   "execution_count": 4,
   "id": "1296093c",
   "metadata": {
    "execution": {
     "iopub.execute_input": "2025-01-02T19:03:39.680466Z",
     "iopub.status.busy": "2025-01-02T19:03:39.680078Z",
     "iopub.status.idle": "2025-01-02T19:03:39.708744Z",
     "shell.execute_reply": "2025-01-02T19:03:39.707484Z"
    },
    "papermill": {
     "duration": 0.036968,
     "end_time": "2025-01-02T19:03:39.711047",
     "exception": false,
     "start_time": "2025-01-02T19:03:39.674079",
     "status": "completed"
    },
    "tags": []
   },
   "outputs": [
    {
     "name": "stdout",
     "output_type": "stream",
     "text": [
      "<class 'pandas.core.frame.DataFrame'>\n",
      "RangeIndex: 6607 entries, 0 to 6606\n",
      "Data columns (total 20 columns):\n",
      " #   Column                      Non-Null Count  Dtype \n",
      "---  ------                      --------------  ----- \n",
      " 0   Hours_Studied               6607 non-null   int64 \n",
      " 1   Attendance                  6607 non-null   int64 \n",
      " 2   Parental_Involvement        6607 non-null   object\n",
      " 3   Access_to_Resources         6607 non-null   object\n",
      " 4   Extracurricular_Activities  6607 non-null   object\n",
      " 5   Sleep_Hours                 6607 non-null   int64 \n",
      " 6   Previous_Scores             6607 non-null   int64 \n",
      " 7   Motivation_Level            6607 non-null   object\n",
      " 8   Internet_Access             6607 non-null   object\n",
      " 9   Tutoring_Sessions           6607 non-null   int64 \n",
      " 10  Family_Income               6607 non-null   object\n",
      " 11  Teacher_Quality             6529 non-null   object\n",
      " 12  School_Type                 6607 non-null   object\n",
      " 13  Peer_Influence              6607 non-null   object\n",
      " 14  Physical_Activity           6607 non-null   int64 \n",
      " 15  Learning_Disabilities       6607 non-null   object\n",
      " 16  Parental_Education_Level    6517 non-null   object\n",
      " 17  Distance_from_Home          6540 non-null   object\n",
      " 18  Gender                      6607 non-null   object\n",
      " 19  Exam_Score                  6607 non-null   int64 \n",
      "dtypes: int64(7), object(13)\n",
      "memory usage: 1.0+ MB\n"
     ]
    }
   ],
   "source": [
    "db.info()"
   ]
  },
  {
   "cell_type": "markdown",
   "id": "72c62ae6",
   "metadata": {
    "papermill": {
     "duration": 0.004808,
     "end_time": "2025-01-02T19:03:39.721249",
     "exception": false,
     "start_time": "2025-01-02T19:03:39.716441",
     "status": "completed"
    },
    "tags": []
   },
   "source": [
    "# Análise Exploratória de Dados\n",
    "Nesta seção será realizada a análise da distribuição e do dominío dos dados das seguintes colunas: Parental_Involvement, Exam_Score, Hours_Studied, School_Type e Gender."
   ]
  },
  {
   "cell_type": "markdown",
   "id": "b75f333e",
   "metadata": {
    "papermill": {
     "duration": 0.005589,
     "end_time": "2025-01-02T19:03:39.731691",
     "exception": false,
     "start_time": "2025-01-02T19:03:39.726102",
     "status": "completed"
    },
    "tags": []
   },
   "source": [
    "# Distribuição das Variáveis Contínuas\n"
   ]
  },
  {
   "cell_type": "code",
   "execution_count": 5,
   "id": "45d24f25",
   "metadata": {
    "execution": {
     "iopub.execute_input": "2025-01-02T19:03:39.743579Z",
     "iopub.status.busy": "2025-01-02T19:03:39.742561Z",
     "iopub.status.idle": "2025-01-02T19:03:39.757962Z",
     "shell.execute_reply": "2025-01-02T19:03:39.756740Z"
    },
    "papermill": {
     "duration": 0.023485,
     "end_time": "2025-01-02T19:03:39.760081",
     "exception": false,
     "start_time": "2025-01-02T19:03:39.736596",
     "status": "completed"
    },
    "tags": []
   },
   "outputs": [
    {
     "data": {
      "text/plain": [
       "count    6607.000000\n",
       "mean       19.975329\n",
       "std         5.990594\n",
       "min         1.000000\n",
       "25%        16.000000\n",
       "50%        20.000000\n",
       "75%        24.000000\n",
       "max        44.000000\n",
       "Name: Hours_Studied, dtype: float64"
      ]
     },
     "execution_count": 5,
     "metadata": {},
     "output_type": "execute_result"
    }
   ],
   "source": [
    "db['Hours_Studied'].describe()"
   ]
  },
  {
   "cell_type": "code",
   "execution_count": 6,
   "id": "6b8ab009",
   "metadata": {
    "execution": {
     "iopub.execute_input": "2025-01-02T19:03:39.772192Z",
     "iopub.status.busy": "2025-01-02T19:03:39.771370Z",
     "iopub.status.idle": "2025-01-02T19:03:40.228225Z",
     "shell.execute_reply": "2025-01-02T19:03:40.227163Z"
    },
    "papermill": {
     "duration": 0.465492,
     "end_time": "2025-01-02T19:03:40.230588",
     "exception": false,
     "start_time": "2025-01-02T19:03:39.765096",
     "status": "completed"
    },
    "tags": []
   },
   "outputs": [
    {
     "name": "stderr",
     "output_type": "stream",
     "text": [
      "/tmp/ipykernel_17/1710225770.py:1: UserWarning: \n",
      "\n",
      "`distplot` is a deprecated function and will be removed in seaborn v0.14.0.\n",
      "\n",
      "Please adapt your code to use either `displot` (a figure-level function with\n",
      "similar flexibility) or `histplot` (an axes-level function for histograms).\n",
      "\n",
      "For a guide to updating your code to use the new functions, please see\n",
      "https://gist.github.com/mwaskom/de44147ed2974457ad6372750bbe5751\n",
      "\n",
      "  snr.distplot(db[\"Hours_Studied\"]).set_title(\"Horas Estudadas por Semana\")\n",
      "/opt/conda/lib/python3.10/site-packages/seaborn/_oldcore.py:1119: FutureWarning: use_inf_as_na option is deprecated and will be removed in a future version. Convert inf values to NaN before operating instead.\n",
      "  with pd.option_context('mode.use_inf_as_na', True):\n"
     ]
    },
    {
     "data": {
      "text/plain": [
       "Text(0.5, 1.0, 'Horas Estudadas por Semana')"
      ]
     },
     "execution_count": 6,
     "metadata": {},
     "output_type": "execute_result"
    },
    {
     "data": {
      "image/png": "[encoded data removed]",
      "text/plain": [
       "<Figure size 640x480 with 1 Axes>"
      ]
     },
     "metadata": {},
     "output_type": "display_data"
    }
   ],
   "source": [
    "snr.distplot(db[\"Hours_Studied\"]).set_title(\"Horas Estudadas por Semana\")"
   ]
  },
  {
   "cell_type": "markdown",
   "id": "fbb4f8ba",
   "metadata": {
    "papermill": {
     "duration": 0.005393,
     "end_time": "2025-01-02T19:03:40.241880",
     "exception": false,
     "start_time": "2025-01-02T19:03:40.236487",
     "status": "completed"
    },
    "tags": []
   },
   "source": [
    "Percebe-se que há uma concentração de cerca de 20 horas por semana\n"
   ]
  },
  {
   "cell_type": "code",
   "execution_count": 7,
   "id": "5cb6b7d9",
   "metadata": {
    "execution": {
     "iopub.execute_input": "2025-01-02T19:03:40.255607Z",
     "iopub.status.busy": "2025-01-02T19:03:40.255186Z",
     "iopub.status.idle": "2025-01-02T19:03:40.265931Z",
     "shell.execute_reply": "2025-01-02T19:03:40.264946Z"
    },
    "papermill": {
     "duration": 0.019812,
     "end_time": "2025-01-02T19:03:40.268073",
     "exception": false,
     "start_time": "2025-01-02T19:03:40.248261",
     "status": "completed"
    },
    "tags": []
   },
   "outputs": [
    {
     "data": {
      "text/plain": [
       "count    6607.000000\n",
       "mean       67.235659\n",
       "std         3.890456\n",
       "min        55.000000\n",
       "25%        65.000000\n",
       "50%        67.000000\n",
       "75%        69.000000\n",
       "max       101.000000\n",
       "Name: Exam_Score, dtype: float64"
      ]
     },
     "execution_count": 7,
     "metadata": {},
     "output_type": "execute_result"
    }
   ],
   "source": [
    "db['Exam_Score'].describe()"
   ]
  },
  {
   "cell_type": "code",
   "execution_count": 8,
   "id": "48a98219",
   "metadata": {
    "execution": {
     "iopub.execute_input": "2025-01-02T19:03:40.281927Z",
     "iopub.status.busy": "2025-01-02T19:03:40.280942Z",
     "iopub.status.idle": "2025-01-02T19:03:40.645009Z",
     "shell.execute_reply": "2025-01-02T19:03:40.644031Z"
    },
    "papermill": {
     "duration": 0.37312,
     "end_time": "2025-01-02T19:03:40.647058",
     "exception": false,
     "start_time": "2025-01-02T19:03:40.273938",
     "status": "completed"
    },
    "tags": []
   },
   "outputs": [
    {
     "name": "stderr",
     "output_type": "stream",
     "text": [
      "/tmp/ipykernel_17/4187128925.py:1: UserWarning: \n",
      "\n",
      "`distplot` is a deprecated function and will be removed in seaborn v0.14.0.\n",
      "\n",
      "Please adapt your code to use either `displot` (a figure-level function with\n",
      "similar flexibility) or `histplot` (an axes-level function for histograms).\n",
      "\n",
      "For a guide to updating your code to use the new functions, please see\n",
      "https://gist.github.com/mwaskom/de44147ed2974457ad6372750bbe5751\n",
      "\n",
      "  snr.distplot(db[\"Exam_Score\"]).set_title(\"Notas\")\n",
      "/opt/conda/lib/python3.10/site-packages/seaborn/_oldcore.py:1119: FutureWarning: use_inf_as_na option is deprecated and will be removed in a future version. Convert inf values to NaN before operating instead.\n",
      "  with pd.option_context('mode.use_inf_as_na', True):\n"
     ]
    },
    {
     "data": {
      "text/plain": [
       "Text(0.5, 1.0, 'Notas')"
      ]
     },
     "execution_count": 8,
     "metadata": {},
     "output_type": "execute_result"
    },
    {
     "data": {
      "image/png": "[encoded data removed]",
      "text/plain": [
       "<Figure size 640x480 with 1 Axes>"
      ]
     },
     "metadata": {},
     "output_type": "display_data"
    }
   ],
   "source": [
    "snr.distplot(db[\"Exam_Score\"]).set_title(\"Notas\")"
   ]
  },
  {
   "cell_type": "markdown",
   "id": "97b4f00d",
   "metadata": {
    "papermill": {
     "duration": 0.006178,
     "end_time": "2025-01-02T19:03:40.659671",
     "exception": false,
     "start_time": "2025-01-02T19:03:40.653493",
     "status": "completed"
    },
    "tags": []
   },
   "source": [
    "os valores de presença estão entre 60 a 100 com pico em 80"
   ]
  },
  {
   "cell_type": "code",
   "execution_count": 9,
   "id": "e49173a1",
   "metadata": {
    "execution": {
     "iopub.execute_input": "2025-01-02T19:03:40.673930Z",
     "iopub.status.busy": "2025-01-02T19:03:40.673564Z",
     "iopub.status.idle": "2025-01-02T19:03:40.682368Z",
     "shell.execute_reply": "2025-01-02T19:03:40.681403Z"
    },
    "papermill": {
     "duration": 0.018414,
     "end_time": "2025-01-02T19:03:40.684310",
     "exception": false,
     "start_time": "2025-01-02T19:03:40.665896",
     "status": "completed"
    },
    "tags": []
   },
   "outputs": [
    {
     "data": {
      "text/plain": [
       "Parental_Involvement\n",
       "High      1908\n",
       "Low       1337\n",
       "Medium    3362\n",
       "dtype: int64"
      ]
     },
     "execution_count": 9,
     "metadata": {},
     "output_type": "execute_result"
    }
   ],
   "source": [
    "agrupado = db.groupby([\"Parental_Involvement\"]).size()\n",
    "agrupado"
   ]
  },
  {
   "cell_type": "markdown",
   "id": "46bf03ea",
   "metadata": {
    "papermill": {
     "duration": 0.006284,
     "end_time": "2025-01-02T19:03:40.697088",
     "exception": false,
     "start_time": "2025-01-02T19:03:40.690804",
     "status": "completed"
    },
    "tags": []
   },
   "source": [
    "# Distribuição das Variáveis Categóricas"
   ]
  },
  {
   "cell_type": "code",
   "execution_count": 10,
   "id": "def4492a",
   "metadata": {
    "execution": {
     "iopub.execute_input": "2025-01-02T19:03:40.711930Z",
     "iopub.status.busy": "2025-01-02T19:03:40.711261Z",
     "iopub.status.idle": "2025-01-02T19:03:40.934986Z",
     "shell.execute_reply": "2025-01-02T19:03:40.933809Z"
    },
    "papermill": {
     "duration": 0.233972,
     "end_time": "2025-01-02T19:03:40.937437",
     "exception": false,
     "start_time": "2025-01-02T19:03:40.703465",
     "status": "completed"
    },
    "tags": []
   },
   "outputs": [
    {
     "data": {
      "text/plain": [
       "Text(0.5, 1.0, 'Envolvimento dos pais')"
      ]
     },
     "execution_count": 10,
     "metadata": {},
     "output_type": "execute_result"
    },
    {
     "data": {
      "image/png": "[encoded data removed]",
      "text/plain": [
       "<Figure size 640x480 with 1 Axes>"
      ]
     },
     "metadata": {},
     "output_type": "display_data"
    }
   ],
   "source": [
    "agrupado.plot.bar().set_title(\"Envolvimento dos pais\")"
   ]
  },
  {
   "cell_type": "raw",
   "id": "e7d6eb21",
   "metadata": {
    "papermill": {
     "duration": 0.006619,
     "end_time": "2025-01-02T19:03:40.951190",
     "exception": false,
     "start_time": "2025-01-02T19:03:40.944571",
     "status": "completed"
    },
    "tags": []
   },
   "source": [
    "A maioria dos pais tem um envolvimento médio com a educação dos filhos"
   ]
  },
  {
   "cell_type": "code",
   "execution_count": 11,
   "id": "b238ad2d",
   "metadata": {
    "execution": {
     "iopub.execute_input": "2025-01-02T19:03:40.967365Z",
     "iopub.status.busy": "2025-01-02T19:03:40.966456Z",
     "iopub.status.idle": "2025-01-02T19:03:40.976056Z",
     "shell.execute_reply": "2025-01-02T19:03:40.974932Z"
    },
    "papermill": {
     "duration": 0.020326,
     "end_time": "2025-01-02T19:03:40.978425",
     "exception": false,
     "start_time": "2025-01-02T19:03:40.958099",
     "status": "completed"
    },
    "tags": []
   },
   "outputs": [
    {
     "data": {
      "text/plain": [
       "School_Type\n",
       "Private    2009\n",
       "Public     4598\n",
       "dtype: int64"
      ]
     },
     "execution_count": 11,
     "metadata": {},
     "output_type": "execute_result"
    }
   ],
   "source": [
    "tipo_escola = db.groupby([\"School_Type\"]).size()\n",
    "tipo_escola"
   ]
  },
  {
   "cell_type": "code",
   "execution_count": 12,
   "id": "8fe3e13e",
   "metadata": {
    "execution": {
     "iopub.execute_input": "2025-01-02T19:03:40.995406Z",
     "iopub.status.busy": "2025-01-02T19:03:40.995028Z",
     "iopub.status.idle": "2025-01-02T19:03:41.203480Z",
     "shell.execute_reply": "2025-01-02T19:03:41.202521Z"
    },
    "papermill": {
     "duration": 0.219572,
     "end_time": "2025-01-02T19:03:41.205631",
     "exception": false,
     "start_time": "2025-01-02T19:03:40.986059",
     "status": "completed"
    },
    "tags": []
   },
   "outputs": [
    {
     "data": {
      "text/plain": [
       "Text(0.5, 1.0, 'Tipo Escola')"
      ]
     },
     "execution_count": 12,
     "metadata": {},
     "output_type": "execute_result"
    },
    {
     "data": {
      "image/png": "[encoded data removed]",
      "text/plain": [
       "<Figure size 640x480 with 1 Axes>"
      ]
     },
     "metadata": {},
     "output_type": "display_data"
    }
   ],
   "source": [
    "tipo_escola.plot.bar().set_title(\"Tipo Escola\")"
   ]
  },
  {
   "cell_type": "code",
   "execution_count": 13,
   "id": "85ff6f59",
   "metadata": {
    "execution": {
     "iopub.execute_input": "2025-01-02T19:03:41.221975Z",
     "iopub.status.busy": "2025-01-02T19:03:41.221634Z",
     "iopub.status.idle": "2025-01-02T19:03:41.230797Z",
     "shell.execute_reply": "2025-01-02T19:03:41.229509Z"
    },
    "papermill": {
     "duration": 0.019906,
     "end_time": "2025-01-02T19:03:41.232959",
     "exception": false,
     "start_time": "2025-01-02T19:03:41.213053",
     "status": "completed"
    },
    "tags": []
   },
   "outputs": [
    {
     "data": {
      "text/plain": [
       "Gender\n",
       "Female    2793\n",
       "Male      3814\n",
       "dtype: int64"
      ]
     },
     "execution_count": 13,
     "metadata": {},
     "output_type": "execute_result"
    }
   ],
   "source": [
    "genero = db.groupby([\"Gender\"]).size()\n",
    "genero"
   ]
  },
  {
   "cell_type": "code",
   "execution_count": 14,
   "id": "7e9de658",
   "metadata": {
    "execution": {
     "iopub.execute_input": "2025-01-02T19:03:41.249388Z",
     "iopub.status.busy": "2025-01-02T19:03:41.249008Z",
     "iopub.status.idle": "2025-01-02T19:03:41.492984Z",
     "shell.execute_reply": "2025-01-02T19:03:41.491738Z"
    },
    "papermill": {
     "duration": 0.254839,
     "end_time": "2025-01-02T19:03:41.495215",
     "exception": false,
     "start_time": "2025-01-02T19:03:41.240376",
     "status": "completed"
    },
    "tags": []
   },
   "outputs": [
    {
     "data": {
      "text/plain": [
       "Text(0.5, 1.0, 'Gênero')"
      ]
     },
     "execution_count": 14,
     "metadata": {},
     "output_type": "execute_result"
    },
    {
     "data": {
      "image/png": "[encoded data removed]",
      "text/plain": [
       "<Figure size 640x480 with 1 Axes>"
      ]
     },
     "metadata": {},
     "output_type": "display_data"
    }
   ],
   "source": [
    "genero.plot.bar().set_title(\"Gênero\")"
   ]
  }
 ],
 "metadata": {
  "kaggle": {
   "accelerator": "none",
   "dataSources": [
    {
     "datasetId": 5630996,
     "sourceId": 9300554,
     "sourceType": "datasetVersion"
    }
   ],
   "dockerImageVersionId": 30761,
   "isGpuEnabled": false,
   "isInternetEnabled": false,
   "language": "python",
   "sourceType": "notebook"
  },
  "kernelspec": {
   "display_name": "Python 3",
   "language": "python",
   "name": "python3"
  },
  "language_info": {
   "codemirror_mode": {
    "name": "ipython",
    "version": 3
   },
   "file_extension": ".py",
   "mimetype": "text/x-python",
   "name": "python",
   "nbconvert_exporter": "python",
   "pygments_lexer": "ipython3",
   "version": "3.10.14"
  },
  "papermill": {
   "default_parameters": {},
   "duration": 7.967695,
   "end_time": "2025-01-02T19:03:42.122059",
   "environment_variables": {},
   "exception": null,
   "input_path": "__notebook__.ipynb",
   "output_path": "__notebook__.ipynb",
   "parameters": {},
   "start_time": "2025-01-02T19:03:34.154364",
   "version": "2.6.0"
  }
 },
 "nbformat": 4,
 "nbformat_minor": 5
}
